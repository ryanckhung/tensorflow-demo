{
 "cells": [
  {
   "cell_type": "markdown",
   "metadata": {},
   "source": [
    "# Preparing Data"
   ]
  },
  {
   "cell_type": "code",
   "execution_count": 1,
   "metadata": {},
   "outputs": [],
   "source": [
    "import numpy as np"
   ]
  },
  {
   "cell_type": "code",
   "execution_count": 2,
   "metadata": {},
   "outputs": [
    {
     "name": "stdout",
     "output_type": "stream",
     "text": [
      "(1000, 3)\n",
      "(3,)\n",
      "(1000,)\n",
      "(1000,)\n"
     ]
    }
   ],
   "source": [
    "observations = 1000\n",
    "x1 = np.random.uniform(-10, 10, (observations,1))\n",
    "x2 = np.random.uniform(-10, 10, (observations,1))\n",
    "x3 = np.random.uniform(-10, 10, (observations,1))\n",
    "x = np.column_stack([x1,x2,x3])\n",
    "\n",
    "w = np.array([2,3,4])\n",
    "w = w.T\n",
    "\n",
    "b = 5\n",
    "\n",
    "# flatten() change the shape form (100,1) [matrix] to (100,) [vector]\n",
    "noise = np.random.uniform(-1, 1, (observations,1)).flatten()\n",
    "\n",
    "y = (np.dot(x,w) + b) + noise\n",
    "\n",
    "print(x.shape)\n",
    "print(w.shape)\n",
    "print(noise.shape)\n",
    "print(y.shape)"
   ]
  },
  {
   "cell_type": "markdown",
   "metadata": {},
   "source": [
    "# Splitting Data"
   ]
  },
  {
   "cell_type": "code",
   "execution_count": 3,
   "metadata": {},
   "outputs": [],
   "source": [
    "total_samples_count = observations\n",
    "train_samples_count = int(0.8*observations)\n",
    "validation_samples_count = int(0.1*observations)\n",
    "test_samples_count = total_samples_count - train_samples_count - validation_samples_count\n",
    "\n",
    "train_inputs = x[:train_samples_count]\n",
    "train_targets = y[:train_samples_count]\n",
    "\n",
    "validation_inputs = x[train_samples_count:train_samples_count+validation_samples_count]\n",
    "validation_targets = y[train_samples_count:train_samples_count+validation_samples_count]\n",
    "\n",
    "test_inputs = x[train_samples_count+validation_samples_count:]\n",
    "test_targets = y[train_samples_count+validation_samples_count:]"
   ]
  },
  {
   "cell_type": "markdown",
   "metadata": {},
   "source": [
    "# Training Model"
   ]
  },
  {
   "cell_type": "code",
   "execution_count": 4,
   "metadata": {},
   "outputs": [
    {
     "name": "stdout",
     "output_type": "stream",
     "text": [
      "Epoch 1/10000\n",
      "8/8 - 0s - loss: 293.3861 - val_loss: 140.1513\n",
      "Epoch 2/10000\n",
      "8/8 - 0s - loss: 84.3932 - val_loss: 27.4977\n",
      "Epoch 3/10000\n",
      "8/8 - 0s - loss: 31.2633 - val_loss: 11.7764\n",
      "Epoch 4/10000\n",
      "8/8 - 0s - loss: 12.2442 - val_loss: 5.4343\n",
      "Epoch 5/10000\n",
      "8/8 - 0s - loss: 5.8351 - val_loss: 1.5359\n",
      "Epoch 6/10000\n",
      "8/8 - 0s - loss: 2.8221 - val_loss: 1.1288\n",
      "Epoch 7/10000\n",
      "8/8 - 0s - loss: 1.1816 - val_loss: 1.4657\n",
      "Epoch 8/10000\n",
      "8/8 - 0s - loss: 0.8625 - val_loss: 0.8001\n",
      "Epoch 9/10000\n",
      "8/8 - 0s - loss: 0.5995 - val_loss: 0.6021\n",
      "Epoch 10/10000\n",
      "8/8 - 0s - loss: 0.4970 - val_loss: 0.4395\n",
      "Epoch 11/10000\n",
      "8/8 - 0s - loss: 0.4107 - val_loss: 0.3687\n",
      "Epoch 12/10000\n",
      "8/8 - 0s - loss: 0.3669 - val_loss: 0.3276\n",
      "Epoch 13/10000\n",
      "8/8 - 0s - loss: 0.3463 - val_loss: 0.3311\n",
      "Epoch 14/10000\n",
      "8/8 - 0s - loss: 0.3433 - val_loss: 0.3329\n",
      "Epoch 15/10000\n",
      "8/8 - 0s - loss: 0.3445 - val_loss: 0.3265\n",
      "Epoch 16/10000\n",
      "8/8 - 0s - loss: 0.3497 - val_loss: 0.3559\n",
      "Epoch 17/10000\n",
      "8/8 - 0s - loss: 0.3488 - val_loss: 0.3327\n",
      "Epoch 18/10000\n",
      "8/8 - 0s - loss: 0.3634 - val_loss: 0.3419\n",
      "Epoch 19/10000\n",
      "8/8 - 0s - loss: 0.3497 - val_loss: 0.3374\n",
      "Epoch 20/10000\n",
      "8/8 - 0s - loss: 0.3519 - val_loss: 0.3748\n",
      "Epoch 21/10000\n",
      "8/8 - 0s - loss: 0.3655 - val_loss: 0.3471\n",
      "Epoch 22/10000\n",
      "8/8 - 0s - loss: 0.3547 - val_loss: 0.3399\n",
      "Epoch 23/10000\n",
      "8/8 - 0s - loss: 0.3474 - val_loss: 0.3356\n",
      "Epoch 24/10000\n",
      "8/8 - 0s - loss: 0.3502 - val_loss: 0.3260\n",
      "Epoch 25/10000\n",
      "8/8 - 0s - loss: 0.3465 - val_loss: 0.3336\n",
      "Epoch 26/10000\n",
      "8/8 - 0s - loss: 0.3523 - val_loss: 0.3686\n",
      "Epoch 27/10000\n",
      "8/8 - 0s - loss: 0.3549 - val_loss: 0.3757\n",
      "Epoch 28/10000\n",
      "8/8 - 0s - loss: 0.3638 - val_loss: 0.3456\n",
      "Epoch 29/10000\n",
      "8/8 - 0s - loss: 0.3649 - val_loss: 0.3528\n",
      "Epoch 30/10000\n",
      "8/8 - 0s - loss: 0.3779 - val_loss: 0.3564\n",
      "Epoch 31/10000\n",
      "8/8 - 0s - loss: 0.3824 - val_loss: 0.3505\n",
      "Epoch 32/10000\n",
      "8/8 - 0s - loss: 0.3593 - val_loss: 0.3355\n",
      "Epoch 33/10000\n",
      "8/8 - 0s - loss: 0.3464 - val_loss: 0.3401\n",
      "Epoch 34/10000\n",
      "8/8 - 0s - loss: 0.3520 - val_loss: 0.3405\n",
      "Epoch 35/10000\n",
      "8/8 - 0s - loss: 0.3549 - val_loss: 0.3371\n",
      "Epoch 36/10000\n",
      "8/8 - 0s - loss: 0.3557 - val_loss: 0.3322\n",
      "Epoch 37/10000\n",
      "8/8 - 0s - loss: 0.3711 - val_loss: 0.3306\n",
      "Epoch 38/10000\n",
      "8/8 - 0s - loss: 0.3967 - val_loss: 0.4080\n",
      "Epoch 39/10000\n",
      "8/8 - 0s - loss: 0.3762 - val_loss: 0.3281\n",
      "Epoch 40/10000\n",
      "8/8 - 0s - loss: 0.3610 - val_loss: 0.3465\n",
      "Epoch 41/10000\n",
      "8/8 - 0s - loss: 0.3449 - val_loss: 0.3530\n",
      "Epoch 42/10000\n",
      "8/8 - 0s - loss: 0.3552 - val_loss: 0.3350\n",
      "Epoch 43/10000\n",
      "8/8 - 0s - loss: 0.3595 - val_loss: 0.3511\n",
      "Epoch 44/10000\n",
      "8/8 - 0s - loss: 0.3510 - val_loss: 0.3280\n"
     ]
    },
    {
     "data": {
      "image/png": "[encoded data removed]",
      "text/plain": [
       "<Figure size 432x288 with 1 Axes>"
      ]
     },
     "metadata": {
      "needs_background": "light"
     },
     "output_type": "display_data"
    },
    {
     "name": "stdout",
     "output_type": "stream",
     "text": [
      "[array([[2.0083203],\n",
      "       [3.0038278],\n",
      "       [4.002934 ]], dtype=float32), array([4.994357], dtype=float32)]\n"
     ]
    }
   ],
   "source": [
    "import tensorflow as tf\n",
    "import matplotlib.pyplot as plt\n",
    "\n",
    "# in this example the equation is y = x1w1 + x2w2 + x3w3 + b + noise\n",
    "# if hidden_layer_size = 3 will give 3 weights and bias\n",
    "# if hidden_layer_size = 5 will give 5 weights and bias (which make the prediction equation more complicated than original)\n",
    "# for this kind of equation, use 1 layer is good enough\n",
    "input_size = 3\n",
    "output_size = 1\n",
    "hidden_layer_size = 3\n",
    "model_number = 1\n",
    "\n",
    "layer0 = tf.keras.layers.Dense(units=hidden_layer_size, activation=tf.keras.activations.relu)\n",
    "layer1 = tf.keras.layers.Dense(units=output_size)\n",
    "\n",
    "if model_number == 1:\n",
    "    model = tf.keras.Sequential([layer1])\n",
    "else:\n",
    "    model = tf.keras.Sequential([layer0, layer1])\n",
    "\n",
    "opt1 = tf.keras.optimizers.SGD(learning_rate=0.001, momentum=0.9)\n",
    "opt2 = tf.keras.optimizers.Adam(1)\n",
    "\n",
    "# metrics=['accuracy'] should be used in classification but not regression\n",
    "# because the results of regression is hard to exact match, therefore accuracy always give 0\n",
    "# for classifcation between cat and dog can give accuracy, because you will only output cat and dog but not something in between\n",
    "#model.compile(optimizer=opt, loss='mean_squared_error', metrics=['accuracy'])\n",
    "model.compile(loss='mean_squared_error', optimizer=opt2)\n",
    "\n",
    "\n",
    "\n",
    "# https://towardsdatascience.com/epoch-vs-iterations-vs-batch-size-4dfb9c7ce9c9\n",
    "# For Batch Gradient Descent => batch_size = size of training set\n",
    "# For Stochastic Gradient Descent => Set batch_size=1\n",
    "# for Mini-batch Gradient Descent => Set 1 < batch_size < size of traing set\n",
    "\n",
    "# We can divide the dataset of 2000 examples into batches of 500 then it will take 4 iterations to complete 1 epoch.\n",
    "\n",
    "batch_size = 100\n",
    "max_epochs = 10000\n",
    "early_stopping = tf.keras.callbacks.EarlyStopping(patience=20)\n",
    "\n",
    "history = model.fit(train_inputs, \n",
    "          train_targets, \n",
    "          batch_size=batch_size, \n",
    "          epochs=max_epochs, \n",
    "          callbacks=[early_stopping],\n",
    "          validation_data=(validation_inputs, validation_targets), \n",
    "          verbose = 2 \n",
    "          )  \n",
    "\n",
    "plt.plot(history.history['loss'])\n",
    "plt.show()\n",
    "\n",
    "\n",
    "weights = layer1.get_weights()\n",
    "print(weights)"
   ]
  },
  {
   "cell_type": "code",
   "execution_count": 5,
   "metadata": {},
   "outputs": [
    {
     "name": "stdout",
     "output_type": "stream",
     "text": [
      "4/4 [==============================] - 0s 1ms/step - loss: 0.3440\n",
      "0.3439992070198059\n"
     ]
    }
   ],
   "source": [
    "test_loss = model.evaluate(test_inputs, test_targets)\n",
    "print(test_loss)"
   ]
  },
  {
   "cell_type": "code",
   "execution_count": 6,
   "metadata": {},
   "outputs": [
    {
     "data": {
      "text/plain": [
       "array([[95.14517]], dtype=float32)"
      ]
     },
     "execution_count": 6,
     "metadata": {},
     "output_type": "execute_result"
    }
   ],
   "source": [
    "model.predict([[10,10,10]])"
   ]
  },
  {
   "cell_type": "code",
   "execution_count": null,
   "metadata": {},
   "outputs": [],
   "source": []
  }
 ],
 "metadata": {
  "kernelspec": {
   "display_name": "Python 3",
   "language": "python",
   "name": "python3"
  },
  "language_info": {
   "codemirror_mode": {
    "name": "ipython",
    "version": 3
   },
   "file_extension": ".py",
   "mimetype": "text/x-python",
   "name": "python",
   "nbconvert_exporter": "python",
   "pygments_lexer": "ipython3",
   "version": "3.8.3"
  }
 },
 "nbformat": 4,
 "nbformat_minor": 4
}
