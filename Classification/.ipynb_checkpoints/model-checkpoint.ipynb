{
 "cells": [
  {
   "cell_type": "markdown",
   "metadata": {},
   "source": [
    "### Import the library\n"
   ]
  },
  {
   "cell_type": "code",
   "execution_count": 192,
   "metadata": {},
   "outputs": [],
   "source": [
    "import numpy as np\n",
    "import tensorflow as tf\n",
    "import matplotlib.pyplot as plt"
   ]
  },
  {
   "cell_type": "markdown",
   "metadata": {},
   "source": [
    "### Load the Data"
   ]
  },
  {
   "cell_type": "code",
   "execution_count": 193,
   "metadata": {},
   "outputs": [],
   "source": [
    "npz = np.load('train.npz')\n",
    "train_inputs, train_targets = npz['inputs'].astype(np.float), npz['targets'].astype(np.int)\n",
    "\n",
    "npz = np.load('validation.npz')\n",
    "validation_inputs, validation_targets = npz['inputs'].astype(np.float), npz['targets'].astype(np.int)\n",
    "\n",
    "npz = np.load('test.npz')\n",
    "test_inputs, test_targets = npz['inputs'].astype(np.float), npz['targets'].astype(np.int)"
   ]
  },
  {
   "cell_type": "markdown",
   "metadata": {},
   "source": [
    "### Creating the Model"
   ]
  },
  {
   "cell_type": "code",
   "execution_count": 194,
   "metadata": {},
   "outputs": [
    {
     "name": "stdout",
     "output_type": "stream",
     "text": [
      "Epoch 1/10000\n",
      "113/113 - 0s - loss: 0.3671 - accuracy: 0.8750 - val_loss: 0.2980 - val_accuracy: 0.8892\n",
      "Epoch 2/10000\n",
      "113/113 - 0s - loss: 0.2758 - accuracy: 0.8990 - val_loss: 0.2729 - val_accuracy: 0.8984\n",
      "Epoch 3/10000\n",
      "113/113 - 0s - loss: 0.2596 - accuracy: 0.9024 - val_loss: 0.2753 - val_accuracy: 0.8977\n",
      "Epoch 4/10000\n",
      "113/113 - 0s - loss: 0.2526 - accuracy: 0.9050 - val_loss: 0.2563 - val_accuracy: 0.9041\n",
      "Epoch 5/10000\n",
      "113/113 - 0s - loss: 0.2471 - accuracy: 0.9057 - val_loss: 0.2469 - val_accuracy: 0.9055\n",
      "Epoch 6/10000\n",
      "113/113 - 0s - loss: 0.2412 - accuracy: 0.9088 - val_loss: 0.2431 - val_accuracy: 0.9105\n",
      "Epoch 7/10000\n",
      "113/113 - 0s - loss: 0.2400 - accuracy: 0.9075 - val_loss: 0.2404 - val_accuracy: 0.9077\n",
      "Epoch 8/10000\n",
      "113/113 - 0s - loss: 0.2368 - accuracy: 0.9103 - val_loss: 0.2392 - val_accuracy: 0.9084\n",
      "Epoch 9/10000\n",
      "113/113 - 0s - loss: 0.2339 - accuracy: 0.9098 - val_loss: 0.2367 - val_accuracy: 0.9070\n",
      "Epoch 10/10000\n",
      "113/113 - 0s - loss: 0.2321 - accuracy: 0.9106 - val_loss: 0.2400 - val_accuracy: 0.9091\n",
      "Epoch 11/10000\n",
      "113/113 - 0s - loss: 0.2314 - accuracy: 0.9102 - val_loss: 0.2543 - val_accuracy: 0.9020\n",
      "Epoch 12/10000\n",
      "113/113 - 0s - loss: 0.2319 - accuracy: 0.9097 - val_loss: 0.2418 - val_accuracy: 0.9055\n",
      "Epoch 13/10000\n",
      "113/113 - 0s - loss: 0.2293 - accuracy: 0.9116 - val_loss: 0.2349 - val_accuracy: 0.9077\n",
      "Epoch 14/10000\n",
      "113/113 - 0s - loss: 0.2267 - accuracy: 0.9121 - val_loss: 0.2408 - val_accuracy: 0.9048\n",
      "Epoch 15/10000\n",
      "113/113 - 0s - loss: 0.2272 - accuracy: 0.9111 - val_loss: 0.2271 - val_accuracy: 0.9077\n",
      "Epoch 16/10000\n",
      "113/113 - 0s - loss: 0.2273 - accuracy: 0.9110 - val_loss: 0.2586 - val_accuracy: 0.9062\n",
      "Epoch 17/10000\n",
      "113/113 - 0s - loss: 0.2289 - accuracy: 0.9120 - val_loss: 0.2416 - val_accuracy: 0.9077\n",
      "Epoch 18/10000\n",
      "113/113 - 0s - loss: 0.2245 - accuracy: 0.9124 - val_loss: 0.2360 - val_accuracy: 0.9055\n",
      "Epoch 19/10000\n",
      "113/113 - 0s - loss: 0.2245 - accuracy: 0.9117 - val_loss: 0.2312 - val_accuracy: 0.9112\n",
      "Epoch 20/10000\n",
      "113/113 - 0s - loss: 0.2238 - accuracy: 0.9124 - val_loss: 0.2250 - val_accuracy: 0.9148\n",
      "Epoch 21/10000\n",
      "113/113 - 0s - loss: 0.2251 - accuracy: 0.9106 - val_loss: 0.2307 - val_accuracy: 0.9105\n",
      "Epoch 22/10000\n",
      "113/113 - 0s - loss: 0.2217 - accuracy: 0.9126 - val_loss: 0.2308 - val_accuracy: 0.9105\n",
      "Epoch 23/10000\n",
      "113/113 - 0s - loss: 0.2247 - accuracy: 0.9114 - val_loss: 0.2295 - val_accuracy: 0.9112\n",
      "Epoch 24/10000\n",
      "113/113 - 0s - loss: 0.2236 - accuracy: 0.9126 - val_loss: 0.2285 - val_accuracy: 0.9112\n",
      "Epoch 25/10000\n",
      "113/113 - 0s - loss: 0.2207 - accuracy: 0.9125 - val_loss: 0.2263 - val_accuracy: 0.9091\n"
     ]
    },
    {
     "data": {
      "image/png": "[encoded data removed]",
      "text/plain": [
       "<Figure size 432x288 with 1 Axes>"
      ]
     },
     "metadata": {
      "needs_background": "light"
     },
     "output_type": "display_data"
    }
   ],
   "source": [
    "input_size = 10\n",
    "output_size = 2  # classification to groupA or groupB [groupA, groupB]\n",
    "hidden_layer_size = 50\n",
    "\n",
    "\n",
    "model = tf.keras.models.Sequential()\n",
    "\n",
    "model.add(tf.keras.layers.Dense(units=hidden_layer_size, activation=tf.keras.activations.relu))\n",
    "model.add(tf.keras.layers.Dense(units=hidden_layer_size, activation=tf.keras.activations.relu))\n",
    "\n",
    "#softmax give the probability [0.7, 0.3]; 70% to be A 30% to be B\n",
    "model.add(tf.keras.layers.Dense(units=output_size, activation='softmax')) \n",
    "    \n",
    "model.compile(optimizer='adam', loss='sparse_categorical_crossentropy', metrics=['accuracy'])\n",
    "\n",
    "batch_size = 100\n",
    "max_epochs = 10000\n",
    "early_stopping = tf.keras.callbacks.EarlyStopping(patience=5)\n",
    "\n",
    "history = model.fit(train_inputs,\n",
    "                    train_targets,\n",
    "                    batch_size=batch_size,\n",
    "                    epochs=max_epochs, \n",
    "                    callbacks=[early_stopping], \n",
    "                    validation_data=(validation_inputs, validation_targets),\n",
    "                    verbose = 2 \n",
    "                    )  \n",
    "\n",
    "plt.plot(history.history['loss'])\n",
    "plt.plot(history.history['accuracy'])\n",
    "plt.show()\n",
    "\n"
   ]
  },
  {
   "cell_type": "markdown",
   "metadata": {},
   "source": [
    "### Testing on Test Data"
   ]
  },
  {
   "cell_type": "code",
   "execution_count": 195,
   "metadata": {},
   "outputs": [
    {
     "name": "stdout",
     "output_type": "stream",
     "text": [
      "45/45 [==============================] - 0s 393us/step - loss: 0.2565 - accuracy: 0.9035\n",
      "\n",
      "Test loss: 0.26. Test accuracy: 90.35%\n"
     ]
    }
   ],
   "source": [
    "test_loss, test_accuracy = model.evaluate(test_inputs, test_targets)\n",
    "print('\\nTest loss: {0:.2f}. Test accuracy: {1:.2f}%'.format(test_loss, test_accuracy*100.))"
   ]
  },
  {
   "cell_type": "markdown",
   "metadata": {},
   "source": [
    "### Testing on Test Data (should have the same results as the above block)\n"
   ]
  },
  {
   "cell_type": "code",
   "execution_count": 196,
   "metadata": {},
   "outputs": [
    {
     "name": "stdout",
     "output_type": "stream",
     "text": [
      "136\n",
      "1409\n",
      "\n",
      "Test accuracy: 90.34776437189495 %\n"
     ]
    }
   ],
   "source": [
    "def checking(target, predict):\n",
    "    if (predict[0][0] > predict[0][1]) and target==0:\n",
    "        return True\n",
    "    elif (predict[0][0] > predict[0][1]) and target==1:\n",
    "        return False\n",
    "    elif (predict[0][0] < predict[0][1]) and target==0:\n",
    "        return False\n",
    "    elif (predict[0][0] < predict[0][1]) and target==1:\n",
    "        return True\n",
    "    else: \n",
    "        return False\n",
    "\n",
    "# feed all the testing data\n",
    "# the accuracy should be the same as the above block\n",
    "countFalse = 0\n",
    "total = len(test_targets)\n",
    "for index in range(total):\n",
    "    predict = model.predict([test_inputs[index].tolist()])\n",
    "    if checking(test_targets[index], predict) == False:\n",
    "        countFalse+=1\n",
    "    \n",
    "print(countFalse)\n",
    "print(total)\n",
    "test_accuracy = (total-countFalse)/total\n",
    "print('\\nTest accuracy:', test_accuracy*100, \"%\")"
   ]
  },
  {
   "cell_type": "markdown",
   "metadata": {},
   "source": [
    "### Testing on the FULL Set [train/test/validation] (accurracy should be closed to the above)"
   ]
  },
  {
   "cell_type": "code",
   "execution_count": 197,
   "metadata": {},
   "outputs": [
    {
     "name": "stdout",
     "output_type": "stream",
     "text": [
      "1232\n",
      "14084\n",
      "\n",
      "Test accuracy: 91.25248508946322 %\n"
     ]
    }
   ],
   "source": [
    "npz = np.load('full.npz')\n",
    "train_full_inputs, train_full_targets = npz['inputs'].astype(np.float), npz['targets'].astype(np.int)\n",
    "\n",
    "countFalse = 0\n",
    "total = len(train_full_targets)\n",
    "for index in range(total):\n",
    "    predict = model.predict([train_full_inputs[index].tolist()])\n",
    "    if checking(train_full_targets[index], predict) == False:\n",
    "        countFalse+=1\n",
    "    \n",
    "print(countFalse)\n",
    "print(total)\n",
    "test_accuracy = (total-countFalse)/total\n",
    "print('\\nTest accuracy:', test_accuracy*100, \"%\")"
   ]
  },
  {
   "cell_type": "markdown",
   "metadata": {},
   "source": [
    "### Testing on the CSV file Data\n"
   ]
  },
  {
   "cell_type": "code",
   "execution_count": 198,
   "metadata": {},
   "outputs": [
    {
     "name": "stdout",
     "output_type": "stream",
     "text": [
      "1232\n",
      "14084\n",
      "\n",
      "Test accuracy: 91.25248508946322 %\n"
     ]
    }
   ],
   "source": [
    "from sklearn import preprocessing\n",
    "\n",
    "# read the CSV and no balance is needed\n",
    "raw_csv_data = np.loadtxt('data.csv', delimiter = ',')\n",
    "\n",
    "# make sure the scale is done after dropping the first and the last column\n",
    "inputs_all = preprocessing.scale(raw_csv_data[:,1:-1])\n",
    "targets_all = raw_csv_data[:,-1]\n",
    "\n",
    "\n",
    "countFalse = 0\n",
    "total = len(inputs_all)\n",
    "for index in range(total):\n",
    "    predict = model.predict([inputs_all[index].tolist()])\n",
    "    if checking(targets_all[index], predict) == False:\n",
    "        countFalse+=1\n",
    "    \n",
    "    \n",
    "# a great drop in the accuracy because you use the balanced data\n",
    "# try to use the full set and re-run it again\n",
    "    \n",
    "print(countFalse)\n",
    "print(total)\n",
    "test_accuracy = (total-countFalse)/total\n",
    "print('\\nTest accuracy:', test_accuracy*100, \"%\")"
   ]
  },
  {
   "cell_type": "code",
   "execution_count": null,
   "metadata": {},
   "outputs": [],
   "source": []
  }
 ],
 "metadata": {
  "kernelspec": {
   "display_name": "Python 3",
   "language": "python",
   "name": "python3"
  },
  "language_info": {
   "codemirror_mode": {
    "name": "ipython",
    "version": 3
   },
   "file_extension": ".py",
   "mimetype": "text/x-python",
   "name": "python",
   "nbconvert_exporter": "python",
   "pygments_lexer": "ipython3",
   "version": "3.8.3"
  }
 },
 "nbformat": 4,
 "nbformat_minor": 4
}
