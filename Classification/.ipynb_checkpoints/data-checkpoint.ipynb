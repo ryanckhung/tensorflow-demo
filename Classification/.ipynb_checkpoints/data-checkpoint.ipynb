{
 "cells": [
  {
   "cell_type": "markdown",
   "metadata": {},
   "source": [
    "# Extract the data from the csv\n"
   ]
  },
  {
   "cell_type": "code",
   "execution_count": 31,
   "metadata": {},
   "outputs": [],
   "source": [
    "import numpy as np\n",
    "from sklearn import preprocessing\n",
    "\n",
    "raw_csv_data = np.loadtxt('data.csv', delimiter = ',')\n",
    "\n",
    "# sort the row by targets\n",
    "raw_csv_data[raw_csv_data[:,-1].argsort()]\n",
    "\n",
    "# drop the first and the last column\n",
    "unscaled_inputs_all = raw_csv_data[:,1:-1]\n",
    "\n",
    "# get last column as the output\n",
    "targets_all = raw_csv_data[:,-1]"
   ]
  },
  {
   "cell_type": "markdown",
   "metadata": {},
   "source": [
    "# Balance the Output"
   ]
  },
  {
   "cell_type": "code",
   "execution_count": 32,
   "metadata": {},
   "outputs": [
    {
     "name": "stdout",
     "output_type": "stream",
     "text": [
      "number of targets is balanced\n",
      "sample size =  4474\n"
     ]
    }
   ],
   "source": [
    "number_of_output_one = int(targets_all.sum())\n",
    "number_of_output_zero = len(targets_all) - int(targets_all.sum())\n",
    "\n",
    "# Since all the row are sorted with all \"1\" in the beginning\n",
    "# and all \"0\" at the end of the dataset\n",
    "balanced_inputs = unscaled_inputs_all[:number_of_output_one*2]\n",
    "balance_targets = targets_all[:number_of_output_one*2]\n",
    "\n",
    "\n",
    "if len(balance_targets)==balance_targets.sum()*2:\n",
    "    print(\"number of targets is balanced\")\n",
    "else:\n",
    "    print(\"number of targets is NOT balanced\")\n",
    "    \n",
    "print(\"sample size = \", len(balance_targets))\n",
    "\n",
    "\n",
    "\n",
    "# uncomment the following will make the train to use full set\n",
    "# if use the balance set as above and use the dropped observations to predict the model will give a large error\n",
    "# it is better to use as much obervation as possible, in this example \n",
    "# total observations = 14084\n",
    "# if balance the observations it will only contains 4474 sample\n",
    "# you can imagine full set 14084 but now you just use 4474 to train\n",
    "# then you use 14084 - 4474 (those sample not included in the train) to predict the value\n",
    "# you can imagine it can lead a large bugs on prediction\n",
    "\n",
    "# balanced_inputs = unscaled_inputs_all\n",
    "# balance_targets = targets_all"
   ]
  },
  {
   "cell_type": "markdown",
   "metadata": {},
   "source": [
    "# Normalized the Inputs"
   ]
  },
  {
   "cell_type": "code",
   "execution_count": 33,
   "metadata": {},
   "outputs": [],
   "source": [
    "scaled_inputs = preprocessing.scale(balanced_inputs)"
   ]
  },
  {
   "cell_type": "markdown",
   "metadata": {},
   "source": [
    "# Shuffle the data\n"
   ]
  },
  {
   "cell_type": "code",
   "execution_count": 34,
   "metadata": {},
   "outputs": [],
   "source": [
    "shuffled_indices = np.arange(scaled_inputs.shape[0])\n",
    "np.random.shuffle(shuffled_indices)\n",
    "\n",
    "shuffled_inputs = scaled_inputs[shuffled_indices]\n",
    "shuffled_targets = balance_targets[shuffled_indices]"
   ]
  },
  {
   "cell_type": "markdown",
   "metadata": {},
   "source": [
    "# Splitting data into train, validation, and test set"
   ]
  },
  {
   "cell_type": "code",
   "execution_count": 35,
   "metadata": {},
   "outputs": [
    {
     "name": "stdout",
     "output_type": "stream",
     "text": [
      "1788.0 11267 0.15869352977722553\n",
      "235.0 1408 0.1669034090909091\n",
      "214.0 1409 0.15188076650106458\n"
     ]
    }
   ],
   "source": [
    "samples_count = shuffled_inputs.shape[0]\n",
    "\n",
    "train_samples_count = int(0.8*samples_count)\n",
    "validation_samples_count = int(0.1*samples_count)\n",
    "test_samples_count = samples_count - train_samples_count - validation_samples_count\n",
    "\n",
    "train_inputs = shuffled_inputs[:train_samples_count]\n",
    "train_targets = shuffled_targets[:train_samples_count]\n",
    "\n",
    "validation_inputs = shuffled_inputs[train_samples_count:train_samples_count+validation_samples_count]\n",
    "validation_targets = shuffled_targets[train_samples_count:train_samples_count+validation_samples_count]\n",
    "\n",
    "test_inputs = shuffled_inputs[train_samples_count+validation_samples_count:]\n",
    "test_targets = shuffled_targets[train_samples_count+validation_samples_count:]\n",
    "\n",
    "print(np.sum(train_targets), train_samples_count, np.sum(train_targets) / train_samples_count)\n",
    "print(np.sum(validation_targets), validation_samples_count, np.sum(validation_targets) / validation_samples_count)\n",
    "print(np.sum(test_targets), test_samples_count, np.sum(test_targets) / test_samples_count)"
   ]
  },
  {
   "cell_type": "markdown",
   "metadata": {},
   "source": [
    "# Saving the Data"
   ]
  },
  {
   "cell_type": "code",
   "execution_count": 36,
   "metadata": {},
   "outputs": [],
   "source": [
    "np.savez('train', inputs=train_inputs, targets=train_targets)\n",
    "np.savez('validation', inputs=validation_inputs, targets=validation_targets)\n",
    "np.savez('test', inputs=test_inputs, targets=test_targets)\n",
    "np.savez('full', inputs=shuffled_inputs, targets=shuffled_targets)"
   ]
  },
  {
   "cell_type": "code",
   "execution_count": null,
   "metadata": {},
   "outputs": [],
   "source": []
  }
 ],
 "metadata": {
  "kernelspec": {
   "display_name": "Python 3",
   "language": "python",
   "name": "python3"
  },
  "language_info": {
   "codemirror_mode": {
    "name": "ipython",
    "version": 3
   },
   "file_extension": ".py",
   "mimetype": "text/x-python",
   "name": "python",
   "nbconvert_exporter": "python",
   "pygments_lexer": "ipython3",
   "version": "3.8.3"
  }
 },
 "nbformat": 4,
 "nbformat_minor": 4
}
