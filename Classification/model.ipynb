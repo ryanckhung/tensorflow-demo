{
 "cells": [
  {
   "cell_type": "markdown",
   "metadata": {},
   "source": [
    "### Import the library\n"
   ]
  },
  {
   "cell_type": "code",
   "execution_count": 199,
   "metadata": {},
   "outputs": [],
   "source": [
    "import numpy as np\n",
    "import tensorflow as tf\n",
    "import matplotlib.pyplot as plt"
   ]
  },
  {
   "cell_type": "markdown",
   "metadata": {},
   "source": [
    "### Load the Data"
   ]
  },
  {
   "cell_type": "code",
   "execution_count": 200,
   "metadata": {},
   "outputs": [],
   "source": [
    "npz = np.load('train.npz')\n",
    "train_inputs, train_targets = npz['inputs'].astype(np.float), npz['targets'].astype(np.int)\n",
    "\n",
    "npz = np.load('validation.npz')\n",
    "validation_inputs, validation_targets = npz['inputs'].astype(np.float), npz['targets'].astype(np.int)\n",
    "\n",
    "npz = np.load('test.npz')\n",
    "test_inputs, test_targets = npz['inputs'].astype(np.float), npz['targets'].astype(np.int)"
   ]
  },
  {
   "cell_type": "markdown",
   "metadata": {},
   "source": [
    "### Creating the Model"
   ]
  },
  {
   "cell_type": "code",
   "execution_count": 201,
   "metadata": {},
   "outputs": [
    {
     "name": "stdout",
     "output_type": "stream",
     "text": [
      "Epoch 1/10000\n",
      "36/36 - 0s - loss: 0.5129 - accuracy: 0.8215 - val_loss: 0.3944 - val_accuracy: 0.8792\n",
      "Epoch 2/10000\n",
      "36/36 - 0s - loss: 0.3596 - accuracy: 0.8704 - val_loss: 0.3056 - val_accuracy: 0.8971\n",
      "Epoch 3/10000\n",
      "36/36 - 0s - loss: 0.3117 - accuracy: 0.8846 - val_loss: 0.2823 - val_accuracy: 0.9016\n",
      "Epoch 4/10000\n",
      "36/36 - 0s - loss: 0.2896 - accuracy: 0.8902 - val_loss: 0.2727 - val_accuracy: 0.9016\n",
      "Epoch 5/10000\n",
      "36/36 - 0s - loss: 0.2751 - accuracy: 0.8966 - val_loss: 0.2668 - val_accuracy: 0.9038\n",
      "Epoch 6/10000\n",
      "36/36 - 0s - loss: 0.2661 - accuracy: 0.8977 - val_loss: 0.2603 - val_accuracy: 0.9060\n",
      "Epoch 7/10000\n",
      "36/36 - 0s - loss: 0.2592 - accuracy: 0.9003 - val_loss: 0.2554 - val_accuracy: 0.9083\n",
      "Epoch 8/10000\n",
      "36/36 - 0s - loss: 0.2553 - accuracy: 0.9042 - val_loss: 0.2550 - val_accuracy: 0.9060\n",
      "Epoch 9/10000\n",
      "36/36 - 0s - loss: 0.2493 - accuracy: 0.9033 - val_loss: 0.2531 - val_accuracy: 0.9038\n",
      "Epoch 10/10000\n",
      "36/36 - 0s - loss: 0.2466 - accuracy: 0.9042 - val_loss: 0.2501 - val_accuracy: 0.9083\n",
      "Epoch 11/10000\n",
      "36/36 - 0s - loss: 0.2442 - accuracy: 0.9047 - val_loss: 0.2544 - val_accuracy: 0.9060\n",
      "Epoch 12/10000\n",
      "36/36 - 0s - loss: 0.2407 - accuracy: 0.9078 - val_loss: 0.2504 - val_accuracy: 0.9038\n",
      "Epoch 13/10000\n",
      "36/36 - 0s - loss: 0.2388 - accuracy: 0.9089 - val_loss: 0.2473 - val_accuracy: 0.9016\n",
      "Epoch 14/10000\n",
      "36/36 - 0s - loss: 0.2367 - accuracy: 0.9089 - val_loss: 0.2478 - val_accuracy: 0.9105\n",
      "Epoch 15/10000\n",
      "36/36 - 0s - loss: 0.2355 - accuracy: 0.9123 - val_loss: 0.2510 - val_accuracy: 0.9060\n",
      "Epoch 16/10000\n",
      "36/36 - 0s - loss: 0.2348 - accuracy: 0.9120 - val_loss: 0.2431 - val_accuracy: 0.9105\n",
      "Epoch 17/10000\n",
      "36/36 - 0s - loss: 0.2317 - accuracy: 0.9117 - val_loss: 0.2491 - val_accuracy: 0.9105\n",
      "Epoch 18/10000\n",
      "36/36 - 0s - loss: 0.2291 - accuracy: 0.9114 - val_loss: 0.2426 - val_accuracy: 0.9083\n",
      "Epoch 19/10000\n",
      "36/36 - 0s - loss: 0.2293 - accuracy: 0.9125 - val_loss: 0.2459 - val_accuracy: 0.9016\n",
      "Epoch 20/10000\n",
      "36/36 - 0s - loss: 0.2278 - accuracy: 0.9137 - val_loss: 0.2514 - val_accuracy: 0.9016\n",
      "Epoch 21/10000\n",
      "36/36 - 0s - loss: 0.2252 - accuracy: 0.9159 - val_loss: 0.2455 - val_accuracy: 0.9060\n",
      "Epoch 22/10000\n",
      "36/36 - 0s - loss: 0.2234 - accuracy: 0.9148 - val_loss: 0.2450 - val_accuracy: 0.9150\n",
      "Epoch 23/10000\n",
      "36/36 - 0s - loss: 0.2238 - accuracy: 0.9165 - val_loss: 0.2523 - val_accuracy: 0.8993\n"
     ]
    },
    {
     "data": {
      "image/png": "[encoded data removed]",
      "text/plain": [
       "<Figure size 432x288 with 1 Axes>"
      ]
     },
     "metadata": {
      "needs_background": "light"
     },
     "output_type": "display_data"
    }
   ],
   "source": [
    "input_size = 10\n",
    "output_size = 2  # classification to groupA or groupB [groupA, groupB]\n",
    "hidden_layer_size = 50\n",
    "\n",
    "\n",
    "model = tf.keras.models.Sequential()\n",
    "\n",
    "model.add(tf.keras.layers.Dense(units=hidden_layer_size, activation=tf.keras.activations.relu))\n",
    "model.add(tf.keras.layers.Dense(units=hidden_layer_size, activation=tf.keras.activations.relu))\n",
    "\n",
    "#softmax give the probability [0.7, 0.3]; 70% to be A 30% to be B\n",
    "model.add(tf.keras.layers.Dense(units=output_size, activation='softmax')) \n",
    "    \n",
    "model.compile(optimizer='adam', loss='sparse_categorical_crossentropy', metrics=['accuracy'])\n",
    "\n",
    "batch_size = 100\n",
    "max_epochs = 10000\n",
    "early_stopping = tf.keras.callbacks.EarlyStopping(patience=5)\n",
    "\n",
    "history = model.fit(train_inputs,\n",
    "                    train_targets,\n",
    "                    batch_size=batch_size,\n",
    "                    epochs=max_epochs, \n",
    "                    callbacks=[early_stopping], \n",
    "                    validation_data=(validation_inputs, validation_targets),\n",
    "                    verbose = 2 \n",
    "                    )  \n",
    "\n",
    "plt.plot(history.history['loss'])\n",
    "plt.plot(history.history['accuracy'])\n",
    "plt.show()\n",
    "\n"
   ]
  },
  {
   "cell_type": "markdown",
   "metadata": {},
   "source": [
    "### Testing on Test Data"
   ]
  },
  {
   "cell_type": "code",
   "execution_count": 202,
   "metadata": {},
   "outputs": [
    {
     "name": "stdout",
     "output_type": "stream",
     "text": [
      "14/14 [==============================] - 0s 783us/step - loss: 0.2939 - accuracy: 0.8862\n",
      "\n",
      "Test loss: 0.29. Test accuracy: 88.62%\n"
     ]
    }
   ],
   "source": [
    "test_loss, test_accuracy = model.evaluate(test_inputs, test_targets)\n",
    "print('\\nTest loss: {0:.2f}. Test accuracy: {1:.2f}%'.format(test_loss, test_accuracy*100.))"
   ]
  },
  {
   "cell_type": "markdown",
   "metadata": {},
   "source": [
    "### Testing on Test Data (should have the same results as the above block)\n"
   ]
  },
  {
   "cell_type": "code",
   "execution_count": 203,
   "metadata": {},
   "outputs": [
    {
     "name": "stdout",
     "output_type": "stream",
     "text": [
      "51\n",
      "448\n",
      "\n",
      "Test accuracy: 88.61607142857143 %\n"
     ]
    }
   ],
   "source": [
    "def checking(target, predict):\n",
    "    if (predict[0][0] > predict[0][1]) and target==0:\n",
    "        return True\n",
    "    elif (predict[0][0] > predict[0][1]) and target==1:\n",
    "        return False\n",
    "    elif (predict[0][0] < predict[0][1]) and target==0:\n",
    "        return False\n",
    "    elif (predict[0][0] < predict[0][1]) and target==1:\n",
    "        return True\n",
    "    else: \n",
    "        return False\n",
    "\n",
    "# feed all the testing data\n",
    "# the accuracy should be the same as the above block\n",
    "countFalse = 0\n",
    "total = len(test_targets)\n",
    "for index in range(total):\n",
    "    predict = model.predict([test_inputs[index].tolist()])\n",
    "    if checking(test_targets[index], predict) == False:\n",
    "        countFalse+=1\n",
    "    \n",
    "print(countFalse)\n",
    "print(total)\n",
    "test_accuracy = (total-countFalse)/total\n",
    "print('\\nTest accuracy:', test_accuracy*100, \"%\")"
   ]
  },
  {
   "cell_type": "markdown",
   "metadata": {},
   "source": [
    "### Testing on the FULL Set [train/test/validation] (accurracy should be closed to the above)"
   ]
  },
  {
   "cell_type": "code",
   "execution_count": 204,
   "metadata": {},
   "outputs": [
    {
     "name": "stdout",
     "output_type": "stream",
     "text": [
      "399\n",
      "4474\n",
      "\n",
      "Test accuracy: 91.08180599016539 %\n"
     ]
    }
   ],
   "source": [
    "npz = np.load('full.npz')\n",
    "train_full_inputs, train_full_targets = npz['inputs'].astype(np.float), npz['targets'].astype(np.int)\n",
    "\n",
    "countFalse = 0\n",
    "total = len(train_full_targets)\n",
    "for index in range(total):\n",
    "    predict = model.predict([train_full_inputs[index].tolist()])\n",
    "    if checking(train_full_targets[index], predict) == False:\n",
    "        countFalse+=1\n",
    "    \n",
    "print(countFalse)\n",
    "print(total)\n",
    "test_accuracy = (total-countFalse)/total\n",
    "print('\\nTest accuracy:', test_accuracy*100, \"%\")"
   ]
  },
  {
   "cell_type": "markdown",
   "metadata": {},
   "source": [
    "### Testing on the CSV file Data\n"
   ]
  },
  {
   "cell_type": "code",
   "execution_count": 205,
   "metadata": {},
   "outputs": [
    {
     "name": "stdout",
     "output_type": "stream",
     "text": [
      "7547\n",
      "14084\n",
      "\n",
      "Test accuracy: 46.414370917353025 %\n"
     ]
    }
   ],
   "source": [
    "from sklearn import preprocessing\n",
    "\n",
    "# read the CSV and no balance is needed\n",
    "raw_csv_data = np.loadtxt('data.csv', delimiter = ',')\n",
    "\n",
    "# make sure the scale is done after dropping the first and the last column\n",
    "inputs_all = preprocessing.scale(raw_csv_data[:,1:-1])\n",
    "targets_all = raw_csv_data[:,-1]\n",
    "\n",
    "\n",
    "countFalse = 0\n",
    "total = len(inputs_all)\n",
    "for index in range(total):\n",
    "    predict = model.predict([inputs_all[index].tolist()])\n",
    "    if checking(targets_all[index], predict) == False:\n",
    "        countFalse+=1\n",
    "    \n",
    "    \n",
    "# a great drop in the accuracy because you use the balanced data\n",
    "# try to use the full set and re-run it again\n",
    "    \n",
    "print(countFalse)\n",
    "print(total)\n",
    "test_accuracy = (total-countFalse)/total\n",
    "print('\\nTest accuracy:', test_accuracy*100, \"%\")"
   ]
  },
  {
   "cell_type": "code",
   "execution_count": null,
   "metadata": {},
   "outputs": [],
   "source": []
  },
  {
   "cell_type": "code",
   "execution_count": null,
   "metadata": {},
   "outputs": [],
   "source": []
  }
 ],
 "metadata": {
  "kernelspec": {
   "display_name": "Python 3",
   "language": "python",
   "name": "python3"
  },
  "language_info": {
   "codemirror_mode": {
    "name": "ipython",
    "version": 3
   },
   "file_extension": ".py",
   "mimetype": "text/x-python",
   "name": "python",
   "nbconvert_exporter": "python",
   "pygments_lexer": "ipython3",
   "version": "3.8.3"
  }
 },
 "nbformat": 4,
 "nbformat_minor": 4
}
