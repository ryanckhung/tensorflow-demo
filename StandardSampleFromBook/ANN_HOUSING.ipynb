{
 "cells": [
  {
   "cell_type": "code",
   "execution_count": 246,
   "metadata": {},
   "outputs": [],
   "source": [
    "from sklearn.datasets import load_boston \n",
    "from sklearn.model_selection import train_test_split \n",
    "from sklearn.preprocessing import StandardScaler\n",
    "\n",
    "import numpy as np\n",
    "\n",
    "import tensorflow as tf\n",
    "from tensorflow import keras"
   ]
  },
  {
   "cell_type": "markdown",
   "metadata": {},
   "source": [
    "### Preparing the Data"
   ]
  },
  {
   "cell_type": "code",
   "execution_count": 247,
   "metadata": {},
   "outputs": [],
   "source": [
    "housing = load_boston()"
   ]
  },
  {
   "cell_type": "code",
   "execution_count": 248,
   "metadata": {},
   "outputs": [
    {
     "name": "stdout",
     "output_type": "stream",
     "text": [
      "[3.56868e+00 0.00000e+00 1.81000e+01 0.00000e+00 5.80000e-01 6.43700e+00\n",
      " 7.50000e+01 2.89650e+00 2.40000e+01 6.66000e+02 2.02000e+01 3.93370e+02\n",
      " 1.43600e+01]\n",
      "[[3.56868e+00 0.00000e+00 1.81000e+01 0.00000e+00 5.80000e-01 6.43700e+00\n",
      "  7.50000e+01 2.89650e+00 2.40000e+01 6.66000e+02 2.02000e+01 3.93370e+02\n",
      "  1.43600e+01]]\n",
      "23.2\n"
     ]
    }
   ],
   "source": [
    "X_train_full, X_test, y_train_full, y_test = train_test_split( housing.data, housing.target)\n",
    "X_train, X_valid, y_train, y_valid = train_test_split( X_train_full, y_train_full)\n",
    "\n",
    "print((X_train_full[0,:]))\n",
    "\n",
    "print((X_train_full[0, np.newaxis]))\n",
    "print((y_train_full[0]))"
   ]
  },
  {
   "cell_type": "code",
   "execution_count": 249,
   "metadata": {},
   "outputs": [],
   "source": [
    "scaler = StandardScaler()\n",
    "X_train = scaler.fit_transform(X_train) \n",
    "X_valid = scaler.transform(X_valid) \n",
    "X_test = scaler.transform(X_test)"
   ]
  },
  {
   "cell_type": "code",
   "execution_count": 250,
   "metadata": {},
   "outputs": [
    {
     "name": "stdout",
     "output_type": "stream",
     "text": [
      "The input shape:\n",
      "(13,)\n"
     ]
    }
   ],
   "source": [
    "print(\"The input shape:\")\n",
    "print(X_train.shape[1:])"
   ]
  },
  {
   "cell_type": "markdown",
   "metadata": {},
   "source": [
    "### Build the Model"
   ]
  },
  {
   "cell_type": "code",
   "execution_count": 251,
   "metadata": {},
   "outputs": [
    {
     "name": "stdout",
     "output_type": "stream",
     "text": [
      "Model: \"sequential_16\"\n",
      "_________________________________________________________________\n",
      "Layer (type)                 Output Shape              Param #   \n",
      "=================================================================\n",
      "dense_32 (Dense)             (None, 30)                420       \n",
      "_________________________________________________________________\n",
      "dense_33 (Dense)             (None, 1)                 31        \n",
      "=================================================================\n",
      "Total params: 451\n",
      "Trainable params: 451\n",
      "Non-trainable params: 0\n",
      "_________________________________________________________________\n"
     ]
    }
   ],
   "source": [
    "model = keras.models.Sequential([\n",
    "    keras.layers.Dense(30, activation=\"relu\", input_shape=X_train.shape[1:]), \n",
    "    keras.layers.Dense(1)\n",
    "])\n",
    "\n",
    "model.summary()"
   ]
  },
  {
   "cell_type": "markdown",
   "metadata": {},
   "source": [
    "### Compile the Model"
   ]
  },
  {
   "cell_type": "code",
   "execution_count": 252,
   "metadata": {},
   "outputs": [],
   "source": [
    "model.compile(loss=\"mean_squared_error\", optimizer=\"sgd\")"
   ]
  },
  {
   "cell_type": "markdown",
   "metadata": {},
   "source": [
    "### Fit the Model"
   ]
  },
  {
   "cell_type": "code",
   "execution_count": 253,
   "metadata": {},
   "outputs": [
    {
     "name": "stdout",
     "output_type": "stream",
     "text": [
      "Epoch 1/40\n",
      "9/9 [==============================] - 0s 20ms/step - loss: 265.0190 - val_loss: 28.6459\n",
      "Epoch 2/40\n",
      "9/9 [==============================] - 0s 7ms/step - loss: 29.2247 - val_loss: 25.1133\n",
      "Epoch 3/40\n",
      "9/9 [==============================] - 0s 8ms/step - loss: 23.0124 - val_loss: 20.7711\n",
      "Epoch 4/40\n",
      "9/9 [==============================] - 0s 9ms/step - loss: 18.6469 - val_loss: 23.3168\n",
      "Epoch 5/40\n",
      "9/9 [==============================] - 0s 7ms/step - loss: 16.5542 - val_loss: 29.2023\n",
      "Epoch 6/40\n",
      "9/9 [==============================] - 0s 6ms/step - loss: 17.8479 - val_loss: 20.7139\n",
      "Epoch 7/40\n",
      "9/9 [==============================] - 0s 11ms/step - loss: 16.9768 - val_loss: 20.1912\n",
      "Epoch 8/40\n",
      "9/9 [==============================] - 0s 11ms/step - loss: 14.3754 - val_loss: 19.6824\n",
      "Epoch 9/40\n",
      "9/9 [==============================] - 0s 11ms/step - loss: 13.7475 - val_loss: 22.4301\n",
      "Epoch 10/40\n",
      "9/9 [==============================] - 0s 8ms/step - loss: 12.8380 - val_loss: 24.9687\n",
      "Epoch 11/40\n",
      "9/9 [==============================] - 0s 8ms/step - loss: 12.7600 - val_loss: 19.8768\n",
      "Epoch 12/40\n",
      "9/9 [==============================] - 0s 7ms/step - loss: 12.6474 - val_loss: 17.9157\n",
      "Epoch 13/40\n",
      "9/9 [==============================] - 0s 8ms/step - loss: 12.5897 - val_loss: 19.6922\n",
      "Epoch 14/40\n",
      "9/9 [==============================] - 0s 7ms/step - loss: 11.9180 - val_loss: 16.2994\n",
      "Epoch 15/40\n",
      "9/9 [==============================] - 0s 6ms/step - loss: 13.1558 - val_loss: 16.9367\n",
      "Epoch 16/40\n",
      "9/9 [==============================] - 0s 6ms/step - loss: 11.4025 - val_loss: 21.1339\n",
      "Epoch 17/40\n",
      "9/9 [==============================] - 0s 6ms/step - loss: 11.5843 - val_loss: 19.9221\n",
      "Epoch 18/40\n",
      "9/9 [==============================] - 0s 6ms/step - loss: 10.9413 - val_loss: 17.4940\n",
      "Epoch 19/40\n",
      "9/9 [==============================] - 0s 4ms/step - loss: 11.7599 - val_loss: 18.0650\n"
     ]
    }
   ],
   "source": [
    "early_stopping_callback = keras.callbacks.EarlyStopping(patience=5, restore_best_weights=True)\n",
    "\n",
    "history = model.fit(X_train, y_train, epochs=40, \n",
    "                    validation_data=(X_valid, y_valid),\n",
    "                   callbacks=[early_stopping_callback])"
   ]
  },
  {
   "cell_type": "markdown",
   "metadata": {},
   "source": [
    "### Evaluate the Model with the test data"
   ]
  },
  {
   "cell_type": "code",
   "execution_count": 254,
   "metadata": {},
   "outputs": [
    {
     "name": "stdout",
     "output_type": "stream",
     "text": [
      "4/4 [==============================] - 0s 14ms/step - loss: 8.6457\n"
     ]
    }
   ],
   "source": [
    "mse_test = model.evaluate(X_test, y_test)"
   ]
  },
  {
   "cell_type": "markdown",
   "metadata": {},
   "source": [
    "### Use the model for prediction"
   ]
  },
  {
   "cell_type": "code",
   "execution_count": 255,
   "metadata": {},
   "outputs": [
    {
     "name": "stdout",
     "output_type": "stream",
     "text": [
      "WARNING:tensorflow:6 out of the last 11 calls to <function Model.make_predict_function.<locals>.predict_function at 0x7fcafc0a75e0> triggered tf.function retracing. Tracing is expensive and the excessive number of tracings could be due to (1) creating @tf.function repeatedly in a loop, (2) passing tensors with different shapes, (3) passing Python objects instead of tensors. For (1), please define your @tf.function outside of the loop. For (2), @tf.function has experimental_relax_shapes=True option that relaxes argument shapes that can avoid unnecessary retracing. For (3), please refer to https://www.tensorflow.org/tutorials/customization/performance#python_or_tensor_args and https://www.tensorflow.org/api_docs/python/tf/function for  more details.\n",
      "[[19.34284 ]\n",
      " [43.372044]\n",
      " [40.129528]\n",
      " [17.492567]\n",
      " [36.774044]]\n",
      "[23.8 43.8 42.8 19.5 34.9]\n"
     ]
    }
   ],
   "source": [
    "X_new = X_test[:5] # pretend these are new instances \n",
    "y_pred = model.predict(X_new)\n",
    "print(y_pred)\n",
    "print(y_test[:5])"
   ]
  },
  {
   "cell_type": "code",
   "execution_count": 256,
   "metadata": {},
   "outputs": [
    {
     "name": "stdout",
     "output_type": "stream",
     "text": [
      "[[-0.18692295 -0.49908845  1.33382018 -0.28257372  0.52705344 -0.56056176\n",
      "   0.36297083 -0.69125627 -0.49196642  0.05242692 -1.72098931 -1.76043715\n",
      "  -0.03375766]]\n",
      "[[19.342838]]\n",
      "23.8\n"
     ]
    }
   ],
   "source": [
    "X_new = X_test[0, np.newaxis]\n",
    "print(X_new)\n",
    "y_pred = model.predict(X_new)\n",
    "print(y_pred)\n",
    "print(y_test[0])"
   ]
  },
  {
   "cell_type": "code",
   "execution_count": null,
   "metadata": {},
   "outputs": [],
   "source": []
  },
  {
   "cell_type": "code",
   "execution_count": null,
   "metadata": {},
   "outputs": [],
   "source": []
  }
 ],
 "metadata": {
  "kernelspec": {
   "display_name": "Python 3",
   "language": "python",
   "name": "python3"
  },
  "language_info": {
   "codemirror_mode": {
    "name": "ipython",
    "version": 3
   },
   "file_extension": ".py",
   "mimetype": "text/x-python",
   "name": "python",
   "nbconvert_exporter": "python",
   "pygments_lexer": "ipython3",
   "version": "3.8.3"
  }
 },
 "nbformat": 4,
 "nbformat_minor": 4
}
