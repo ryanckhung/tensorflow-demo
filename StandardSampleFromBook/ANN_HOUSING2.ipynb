{
 "cells": [
  {
   "cell_type": "code",
   "execution_count": 23,
   "metadata": {},
   "outputs": [],
   "source": [
    "from sklearn.datasets import load_boston \n",
    "from sklearn.model_selection import train_test_split \n",
    "from sklearn.preprocessing import StandardScaler\n",
    "\n",
    "import numpy as np\n",
    "\n",
    "import tensorflow as tf\n",
    "from tensorflow import keras"
   ]
  },
  {
   "cell_type": "markdown",
   "metadata": {},
   "source": [
    "### Preparing the Data"
   ]
  },
  {
   "cell_type": "code",
   "execution_count": 24,
   "metadata": {},
   "outputs": [],
   "source": [
    "housing = load_boston()"
   ]
  },
  {
   "cell_type": "code",
   "execution_count": 25,
   "metadata": {},
   "outputs": [
    {
     "name": "stdout",
     "output_type": "stream",
     "text": [
      "[3.6590e-02 2.5000e+01 4.8600e+00 0.0000e+00 4.2600e-01 6.3020e+00\n",
      " 3.2200e+01 5.4007e+00 4.0000e+00 2.8100e+02 1.9000e+01 3.9690e+02\n",
      " 6.7200e+00]\n",
      "[[3.6590e-02 2.5000e+01 4.8600e+00 0.0000e+00 4.2600e-01 6.3020e+00\n",
      "  3.2200e+01 5.4007e+00 4.0000e+00 2.8100e+02 1.9000e+01 3.9690e+02\n",
      "  6.7200e+00]]\n",
      "24.8\n"
     ]
    }
   ],
   "source": [
    "X_train_full, X_test, y_train_full, y_test = train_test_split( housing.data, housing.target)\n",
    "X_train, X_valid, y_train, y_valid = train_test_split( X_train_full, y_train_full)\n",
    "\n",
    "print((X_train_full[0,:]))\n",
    "\n",
    "print((X_train_full[0, np.newaxis]))\n",
    "print((y_train_full[0]))"
   ]
  },
  {
   "cell_type": "code",
   "execution_count": 26,
   "metadata": {},
   "outputs": [],
   "source": [
    "scaler = StandardScaler()\n",
    "X_train = scaler.fit_transform(X_train) \n",
    "X_valid = scaler.transform(X_valid) \n",
    "X_test = scaler.transform(X_test)"
   ]
  },
  {
   "cell_type": "code",
   "execution_count": 27,
   "metadata": {},
   "outputs": [
    {
     "name": "stdout",
     "output_type": "stream",
     "text": [
      "The input shape:\n",
      "(13,)\n"
     ]
    }
   ],
   "source": [
    "print(\"The input shape:\")\n",
    "print(X_train.shape[1:])"
   ]
  },
  {
   "cell_type": "markdown",
   "metadata": {},
   "source": [
    "### Build the Model"
   ]
  },
  {
   "cell_type": "code",
   "execution_count": 28,
   "metadata": {},
   "outputs": [
    {
     "name": "stdout",
     "output_type": "stream",
     "text": [
      "Model: \"functional_5\"\n",
      "__________________________________________________________________________________________________\n",
      "Layer (type)                    Output Shape         Param #     Connected to                     \n",
      "==================================================================================================\n",
      "input_3 (InputLayer)            [(None, 13)]         0                                            \n",
      "__________________________________________________________________________________________________\n",
      "dense_6 (Dense)                 (None, 30)           420         input_3[0][0]                    \n",
      "__________________________________________________________________________________________________\n",
      "dense_7 (Dense)                 (None, 30)           930         dense_6[0][0]                    \n",
      "__________________________________________________________________________________________________\n",
      "concatenate_2 (Concatenate)     (None, 43)           0           input_3[0][0]                    \n",
      "                                                                 dense_7[0][0]                    \n",
      "__________________________________________________________________________________________________\n",
      "dense_8 (Dense)                 (None, 1)            44          concatenate_2[0][0]              \n",
      "==================================================================================================\n",
      "Total params: 1,394\n",
      "Trainable params: 1,394\n",
      "Non-trainable params: 0\n",
      "__________________________________________________________________________________________________\n"
     ]
    }
   ],
   "source": [
    "input_ = keras.layers.Input(shape=X_train.shape[1:])\n",
    "hidden1 = keras.layers.Dense(30, activation=\"relu\")(input_) \n",
    "hidden2 = keras.layers.Dense(30, activation=\"relu\")(hidden1) \n",
    "concat = keras.layers.Concatenate()([input_, hidden2]) \n",
    "output = keras.layers.Dense(1)(concat)\n",
    "model = keras.Model(inputs=[input_], outputs=[output])\n",
    "\n",
    "model.summary()"
   ]
  },
  {
   "cell_type": "markdown",
   "metadata": {},
   "source": [
    "### Compile the Model"
   ]
  },
  {
   "cell_type": "code",
   "execution_count": 29,
   "metadata": {},
   "outputs": [],
   "source": [
    "model.compile(loss=\"mean_squared_error\", optimizer=\"sgd\")"
   ]
  },
  {
   "cell_type": "markdown",
   "metadata": {},
   "source": [
    "### Fit the Model"
   ]
  },
  {
   "cell_type": "code",
   "execution_count": 30,
   "metadata": {},
   "outputs": [
    {
     "name": "stdout",
     "output_type": "stream",
     "text": [
      "Epoch 1/40\n",
      "9/9 [==============================] - 0s 20ms/step - loss: 486.5520 - val_loss: 309.0211\n",
      "Epoch 2/40\n",
      "9/9 [==============================] - 0s 5ms/step - loss: 869.3998 - val_loss: 418.9066\n",
      "Epoch 3/40\n",
      "9/9 [==============================] - 0s 5ms/step - loss: 474.2013 - val_loss: 208.2141\n",
      "Epoch 4/40\n",
      "9/9 [==============================] - 0s 5ms/step - loss: 142.5111 - val_loss: 108.4816\n",
      "Epoch 5/40\n",
      "9/9 [==============================] - 0s 4ms/step - loss: 104.7685 - val_loss: 121.2771\n",
      "Epoch 6/40\n",
      "9/9 [==============================] - 0s 6ms/step - loss: 108.0542 - val_loss: 107.3499\n",
      "Epoch 7/40\n",
      "9/9 [==============================] - 0s 8ms/step - loss: 48.3231 - val_loss: 58.7178\n",
      "Epoch 8/40\n",
      "9/9 [==============================] - 0s 11ms/step - loss: 40.8315 - val_loss: 45.8273\n",
      "Epoch 9/40\n",
      "9/9 [==============================] - 0s 14ms/step - loss: 23.6098 - val_loss: 44.1043\n",
      "Epoch 10/40\n",
      "9/9 [==============================] - 0s 9ms/step - loss: 22.9797 - val_loss: 44.3839\n",
      "Epoch 11/40\n",
      "9/9 [==============================] - 0s 6ms/step - loss: 30.2311 - val_loss: 43.2653\n",
      "Epoch 12/40\n",
      "9/9 [==============================] - 0s 5ms/step - loss: 22.5664 - val_loss: 47.9342\n",
      "Epoch 13/40\n",
      "9/9 [==============================] - 0s 5ms/step - loss: 24.6157 - val_loss: 61.5013\n",
      "Epoch 14/40\n",
      "9/9 [==============================] - 0s 5ms/step - loss: 19.7631 - val_loss: 40.2342\n",
      "Epoch 15/40\n",
      "9/9 [==============================] - 0s 4ms/step - loss: 18.6985 - val_loss: 50.0536\n",
      "Epoch 16/40\n",
      "9/9 [==============================] - 0s 4ms/step - loss: 24.4763 - val_loss: 82.5694\n",
      "Epoch 17/40\n",
      "9/9 [==============================] - 0s 5ms/step - loss: 27.9260 - val_loss: 36.7765\n",
      "Epoch 18/40\n",
      "9/9 [==============================] - 0s 5ms/step - loss: 21.2565 - val_loss: 35.8697\n",
      "Epoch 19/40\n",
      "9/9 [==============================] - 0s 4ms/step - loss: 16.0783 - val_loss: 35.9510\n",
      "Epoch 20/40\n",
      "9/9 [==============================] - 0s 5ms/step - loss: 15.9948 - val_loss: 35.3567\n",
      "Epoch 21/40\n",
      "9/9 [==============================] - 0s 5ms/step - loss: 15.1957 - val_loss: 34.2822\n",
      "Epoch 22/40\n",
      "9/9 [==============================] - 0s 4ms/step - loss: 14.9254 - val_loss: 35.5100\n",
      "Epoch 23/40\n",
      "9/9 [==============================] - 0s 5ms/step - loss: 19.4037 - val_loss: 34.1427\n",
      "Epoch 24/40\n",
      "9/9 [==============================] - 0s 4ms/step - loss: 14.7892 - val_loss: 35.0223\n",
      "Epoch 25/40\n",
      "9/9 [==============================] - 0s 5ms/step - loss: 15.1312 - val_loss: 32.4105\n",
      "Epoch 26/40\n",
      "9/9 [==============================] - 0s 4ms/step - loss: 14.3982 - val_loss: 35.9138\n",
      "Epoch 27/40\n",
      "9/9 [==============================] - 0s 5ms/step - loss: 15.3597 - val_loss: 31.7238\n",
      "Epoch 28/40\n",
      "9/9 [==============================] - 0s 7ms/step - loss: 13.8156 - val_loss: 31.4262\n",
      "Epoch 29/40\n",
      "9/9 [==============================] - 0s 6ms/step - loss: 16.7081 - val_loss: 34.9483\n",
      "Epoch 30/40\n",
      "9/9 [==============================] - 0s 5ms/step - loss: 15.0608 - val_loss: 34.8379\n",
      "Epoch 31/40\n",
      "9/9 [==============================] - 0s 5ms/step - loss: 14.5784 - val_loss: 31.0374\n",
      "Epoch 32/40\n",
      "9/9 [==============================] - 0s 4ms/step - loss: 17.0583 - val_loss: 31.1212\n",
      "Epoch 33/40\n",
      "9/9 [==============================] - 0s 4ms/step - loss: 13.7073 - val_loss: 30.9147\n",
      "Epoch 34/40\n",
      "9/9 [==============================] - 0s 5ms/step - loss: 15.0391 - val_loss: 34.2428\n",
      "Epoch 35/40\n",
      "9/9 [==============================] - 0s 5ms/step - loss: 13.9585 - val_loss: 30.0843\n",
      "Epoch 36/40\n",
      "9/9 [==============================] - 0s 5ms/step - loss: 14.1955 - val_loss: 30.5397\n",
      "Epoch 37/40\n",
      "9/9 [==============================] - 0s 8ms/step - loss: 12.9311 - val_loss: 30.2033\n",
      "Epoch 38/40\n",
      "9/9 [==============================] - 0s 4ms/step - loss: 13.5677 - val_loss: 31.0106\n",
      "Epoch 39/40\n",
      "9/9 [==============================] - 0s 5ms/step - loss: 15.2921 - val_loss: 32.3548\n",
      "Epoch 40/40\n",
      "9/9 [==============================] - 0s 5ms/step - loss: 18.9362 - val_loss: 31.4143\n"
     ]
    }
   ],
   "source": [
    "early_stopping_callback = keras.callbacks.EarlyStopping(patience=5, restore_best_weights=True)\n",
    "\n",
    "history = model.fit(X_train, y_train, epochs=40, \n",
    "                    validation_data=(X_valid, y_valid),\n",
    "                   callbacks=[early_stopping_callback])"
   ]
  },
  {
   "cell_type": "markdown",
   "metadata": {},
   "source": [
    "### Evaluate the Model with the test data"
   ]
  },
  {
   "cell_type": "code",
   "execution_count": 31,
   "metadata": {},
   "outputs": [
    {
     "name": "stdout",
     "output_type": "stream",
     "text": [
      "1/4 [======>.......................] - ETA: 0s - loss: 9.1700WARNING:tensorflow:Callbacks method `on_test_batch_end` is slow compared to the batch time (batch time: 0.0006s vs `on_test_batch_end` time: 0.0020s). Check your callbacks.\n",
      "4/4 [==============================] - 0s 2ms/step - loss: 9.8348\n"
     ]
    }
   ],
   "source": [
    "mse_test = model.evaluate(X_test, y_test)"
   ]
  },
  {
   "cell_type": "markdown",
   "metadata": {},
   "source": [
    "### Use the model for prediction"
   ]
  },
  {
   "cell_type": "code",
   "execution_count": 32,
   "metadata": {},
   "outputs": [
    {
     "name": "stdout",
     "output_type": "stream",
     "text": [
      "[[27.389896]\n",
      " [12.993153]\n",
      " [21.68355 ]\n",
      " [35.075184]\n",
      " [38.323353]]\n",
      "[32.5 12.  24.7 33.4 41.3]\n"
     ]
    }
   ],
   "source": [
    "X_new = X_test[:5] # pretend these are new instances \n",
    "y_pred = model.predict(X_new)\n",
    "print(y_pred)\n",
    "print(y_test[:5])"
   ]
  },
  {
   "cell_type": "code",
   "execution_count": 33,
   "metadata": {},
   "outputs": [
    {
     "name": "stdout",
     "output_type": "stream",
     "text": [
      "[[-0.42788382 -0.47880263 -1.30255092 -0.26013299 -0.61253132  0.43584159\n",
      "   0.91158264 -0.4548671  -0.79846364 -1.29842921 -0.34955742  0.47441695\n",
      "  -1.01791159]]\n",
      "[[27.389898]]\n",
      "32.5\n"
     ]
    }
   ],
   "source": [
    "X_new = X_test[0, np.newaxis]\n",
    "print(X_new)\n",
    "y_pred = model.predict(X_new)\n",
    "print(y_pred)\n",
    "print(y_test[0])"
   ]
  },
  {
   "cell_type": "code",
   "execution_count": null,
   "metadata": {},
   "outputs": [],
   "source": []
  },
  {
   "cell_type": "code",
   "execution_count": null,
   "metadata": {},
   "outputs": [],
   "source": []
  }
 ],
 "metadata": {
  "kernelspec": {
   "display_name": "Python 3",
   "language": "python",
   "name": "python3"
  },
  "language_info": {
   "codemirror_mode": {
    "name": "ipython",
    "version": 3
   },
   "file_extension": ".py",
   "mimetype": "text/x-python",
   "name": "python",
   "nbconvert_exporter": "python",
   "pygments_lexer": "ipython3",
   "version": "3.8.3"
  }
 },
 "nbformat": 4,
 "nbformat_minor": 4
}
