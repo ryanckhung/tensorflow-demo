{
 "cells": [
  {
   "cell_type": "code",
   "execution_count": 148,
   "metadata": {},
   "outputs": [],
   "source": [
    "# Please try the following sequence to fine tune the parameters\n",
    "# Learning Rate > Optimizer > Number of Layers > Number of neurons per layer > Activation Functions > Batch Size\n",
    "# You can also increase the number of data sample, epoc\n",
    "\n",
    "import tensorflow as tf\n",
    "from tensorflow import keras"
   ]
  },
  {
   "cell_type": "markdown",
   "metadata": {},
   "source": [
    "### Preparing the Data"
   ]
  },
  {
   "cell_type": "code",
   "execution_count": 149,
   "metadata": {},
   "outputs": [
    {
     "name": "stdout",
     "output_type": "stream",
     "text": [
      "(60000, 28, 28)\n",
      "uint8\n"
     ]
    }
   ],
   "source": [
    "fashion_mnist = keras.datasets.fashion_mnist\n",
    "(X_train_full, y_train_full), (X_test, y_test) = fashion_mnist.load_data()\n",
    "\n",
    "print( X_train_full.shape )\n",
    "print( X_train_full.dtype )\n",
    "# print( X_train_full[0] )\n",
    "# print( y_train_full[0] )"
   ]
  },
  {
   "cell_type": "code",
   "execution_count": 150,
   "metadata": {},
   "outputs": [
    {
     "name": "stdout",
     "output_type": "stream",
     "text": [
      "(55000, 28, 28)\n",
      "(5000, 28, 28)\n"
     ]
    }
   ],
   "source": [
    "X_valid, X_train = X_train_full[:5000]/255.0, X_train_full[5000:]/255.0\n",
    "y_valid, y_train = y_train_full[:5000], y_train_full[5000:]\n",
    "\n",
    "print(X_train.shape)\n",
    "print(X_valid.shape)"
   ]
  },
  {
   "cell_type": "code",
   "execution_count": 151,
   "metadata": {},
   "outputs": [],
   "source": [
    "class_names = [\"T-shirt/top\", \"Trouser\", \"Pullover\", \"Dress\", \"Coat\", \"Sandal\", \"Shirt\", \"Sneaker\", \"Bag\", \"Ankle boot\"]"
   ]
  },
  {
   "cell_type": "markdown",
   "metadata": {},
   "source": [
    "### Build the Model"
   ]
  },
  {
   "cell_type": "code",
   "execution_count": 152,
   "metadata": {},
   "outputs": [
    {
     "name": "stdout",
     "output_type": "stream",
     "text": [
      "Model: \"sequential_8\"\n",
      "_________________________________________________________________\n",
      "Layer (type)                 Output Shape              Param #   \n",
      "=================================================================\n",
      "flatten_7 (Flatten)          (None, 784)               0         \n",
      "_________________________________________________________________\n",
      "dense_23 (Dense)             (None, 300)               235500    \n",
      "_________________________________________________________________\n",
      "dense_24 (Dense)             (None, 100)               30100     \n",
      "_________________________________________________________________\n",
      "dense_25 (Dense)             (None, 10)                1010      \n",
      "=================================================================\n",
      "Total params: 266,610\n",
      "Trainable params: 266,610\n",
      "Non-trainable params: 0\n",
      "_________________________________________________________________\n"
     ]
    }
   ],
   "source": [
    "model = keras.models.Sequential([\n",
    "    keras.layers.Flatten(input_shape=[28,28]),\n",
    "    keras.layers.Dense(300, activation=\"relu\"),\n",
    "    keras.layers.Dense(100, activation=\"relu\"),\n",
    "    keras.layers.Dense(10, activation=\"softmax\")\n",
    "])\n",
    "\n",
    "model.summary()"
   ]
  },
  {
   "cell_type": "code",
   "execution_count": 153,
   "metadata": {},
   "outputs": [
    {
     "data": {
      "text/plain": [
       "[<tensorflow.python.keras.layers.core.Flatten at 0x7fce73560a30>,\n",
       " <tensorflow.python.keras.layers.core.Dense at 0x7fce9e05fc70>,\n",
       " <tensorflow.python.keras.layers.core.Dense at 0x7fce734f7d60>,\n",
       " <tensorflow.python.keras.layers.core.Dense at 0x7fce9e0681c0>]"
      ]
     },
     "execution_count": 153,
     "metadata": {},
     "output_type": "execute_result"
    }
   ],
   "source": [
    "model.layers"
   ]
  },
  {
   "cell_type": "code",
   "execution_count": 154,
   "metadata": {},
   "outputs": [
    {
     "name": "stdout",
     "output_type": "stream",
     "text": [
      "(784, 300)\n",
      "(300,)\n"
     ]
    }
   ],
   "source": [
    "hidden1 = model.layers[1]\n",
    "weights, bias = hidden1.get_weights()\n",
    "print(weights.shape)\n",
    "print(bias.shape)"
   ]
  },
  {
   "cell_type": "markdown",
   "metadata": {},
   "source": [
    "### Compling the Model"
   ]
  },
  {
   "cell_type": "code",
   "execution_count": 155,
   "metadata": {},
   "outputs": [],
   "source": [
    "model.compile(loss=\"sparse_categorical_crossentropy\", \n",
    "             optimizer=keras.optimizers.SGD(lr=0.005),\n",
    "             metrics=[\"accuracy\"])"
   ]
  },
  {
   "cell_type": "markdown",
   "metadata": {},
   "source": [
    "### Fit the Model"
   ]
  },
  {
   "cell_type": "code",
   "execution_count": 156,
   "metadata": {},
   "outputs": [
    {
     "name": "stdout",
     "output_type": "stream",
     "text": [
      "Epoch 1/30\n",
      "5500/5500 [==============================] - 11s 2ms/step - loss: 0.6504 - accuracy: 0.7793 - val_loss: 0.4971 - val_accuracy: 0.8222\n",
      "Epoch 2/30\n",
      "5500/5500 [==============================] - 10s 2ms/step - loss: 0.4570 - accuracy: 0.8391 - val_loss: 0.4575 - val_accuracy: 0.8386\n",
      "Epoch 3/30\n",
      "5500/5500 [==============================] - 10s 2ms/step - loss: 0.4116 - accuracy: 0.8543 - val_loss: 0.3849 - val_accuracy: 0.8698ETA: 0s - loss: 0.4133  - ETA: 0s - loss: 0.4117 - accuracy: 0.85\n",
      "Epoch 4/30\n",
      "5500/5500 [==============================] - 10s 2ms/step - loss: 0.3855 - accuracy: 0.8637 - val_loss: 0.3791 - val_accuracy: 0.8646\n",
      "Epoch 5/30\n",
      "5500/5500 [==============================] - 10s 2ms/step - loss: 0.3656 - accuracy: 0.8699 - val_loss: 0.3594 - val_accuracy: 0.8714\n",
      "Epoch 6/30\n",
      "5500/5500 [==============================] - 11s 2ms/step - loss: 0.3484 - accuracy: 0.8768 - val_loss: 0.3417 - val_accuracy: 0.8790\n",
      "Epoch 7/30\n",
      "5500/5500 [==============================] - 10s 2ms/step - loss: 0.3343 - accuracy: 0.8803 - val_loss: 0.3632 - val_accuracy: 0.8700\n",
      "Epoch 8/30\n",
      "5500/5500 [==============================] - 10s 2ms/step - loss: 0.3234 - accuracy: 0.8832 - val_loss: 0.3503 - val_accuracy: 0.8756\n",
      "Epoch 9/30\n",
      "5500/5500 [==============================] - 11s 2ms/step - loss: 0.3121 - accuracy: 0.8881 - val_loss: 0.3272 - val_accuracy: 0.8830\n",
      "Epoch 10/30\n",
      "5500/5500 [==============================] - 12s 2ms/step - loss: 0.3017 - accuracy: 0.8907 - val_loss: 0.3303 - val_accuracy: 0.8812\n",
      "Epoch 11/30\n",
      "5500/5500 [==============================] - 12s 2ms/step - loss: 0.2934 - accuracy: 0.8929 - val_loss: 0.3221 - val_accuracy: 0.8846\n",
      "Epoch 12/30\n",
      "5500/5500 [==============================] - 12s 2ms/step - loss: 0.2847 - accuracy: 0.8971 - val_loss: 0.3313 - val_accuracy: 0.8810\n",
      "Epoch 13/30\n",
      "5500/5500 [==============================] - 11s 2ms/step - loss: 0.2775 - accuracy: 0.8992 - val_loss: 0.3131 - val_accuracy: 0.8884\n",
      "Epoch 14/30\n",
      "5500/5500 [==============================] - 10s 2ms/step - loss: 0.2708 - accuracy: 0.9012 - val_loss: 0.3360 - val_accuracy: 0.8822\n",
      "Epoch 15/30\n",
      "5500/5500 [==============================] - 10s 2ms/step - loss: 0.2639 - accuracy: 0.9031 - val_loss: 0.3115 - val_accuracy: 0.8896\n",
      "Epoch 16/30\n",
      "5500/5500 [==============================] - 12s 2ms/step - loss: 0.2572 - accuracy: 0.9066 - val_loss: 0.3111 - val_accuracy: 0.8886ss: 0.2572 - accu\n",
      "Epoch 17/30\n",
      "5500/5500 [==============================] - 12s 2ms/step - loss: 0.2508 - accuracy: 0.9094 - val_loss: 0.3308 - val_accuracy: 0.8812\n",
      "Epoch 18/30\n",
      "5500/5500 [==============================] - 10s 2ms/step - loss: 0.2448 - accuracy: 0.9111 - val_loss: 0.3302 - val_accuracy: 0.8768\n",
      "Epoch 19/30\n",
      "5500/5500 [==============================] - 11s 2ms/step - loss: 0.2402 - accuracy: 0.9126 - val_loss: 0.3178 - val_accuracy: 0.8872\n",
      "Epoch 20/30\n",
      "5500/5500 [==============================] - 11s 2ms/step - loss: 0.2338 - accuracy: 0.9153 - val_loss: 0.3101 - val_accuracy: 0.8836\n",
      "Epoch 21/30\n",
      "5500/5500 [==============================] - 11s 2ms/step - loss: 0.2286 - accuracy: 0.9166 - val_loss: 0.3041 - val_accuracy: 0.8898\n",
      "Epoch 22/30\n",
      "5500/5500 [==============================] - 11s 2ms/step - loss: 0.2238 - accuracy: 0.9185 - val_loss: 0.3214 - val_accuracy: 0.8858loss: 0.2224 -  -\n",
      "Epoch 23/30\n",
      "5500/5500 [==============================] - 11s 2ms/step - loss: 0.2198 - accuracy: 0.9210 - val_loss: 0.2965 - val_accuracy: 0.8962\n",
      "Epoch 24/30\n",
      "5500/5500 [==============================] - 11s 2ms/step - loss: 0.2152 - accuracy: 0.9218 - val_loss: 0.3137 - val_accuracy: 0.8880\n",
      "Epoch 25/30\n",
      "5500/5500 [==============================] - 12s 2ms/step - loss: 0.2095 - accuracy: 0.9235 - val_loss: 0.3101 - val_accuracy: 0.8892\n",
      "Epoch 26/30\n",
      "5500/5500 [==============================] - 11s 2ms/step - loss: 0.2054 - accuracy: 0.9254 - val_loss: 0.3047 - val_accuracy: 0.8914\n",
      "Epoch 27/30\n",
      "5500/5500 [==============================] - 11s 2ms/step - loss: 0.2011 - accuracy: 0.9273 - val_loss: 0.3054 - val_accuracy: 0.8898\n",
      "Epoch 28/30\n",
      "5500/5500 [==============================] - 11s 2ms/step - loss: 0.1970 - accuracy: 0.9295 - val_loss: 0.2921 - val_accuracy: 0.8934\n",
      "Epoch 29/30\n",
      "5500/5500 [==============================] - 10s 2ms/step - loss: 0.1935 - accuracy: 0.9291 - val_loss: 0.2928 - val_accuracy: 0.8960\n",
      "Epoch 30/30\n",
      "5500/5500 [==============================] - 10s 2ms/step - loss: 0.1883 - accuracy: 0.9317 - val_loss: 0.2923 - val_accuracy: 0.8960\n"
     ]
    }
   ],
   "source": [
    "early_stopping_callback = keras.callbacks.EarlyStopping(patience=5, restore_best_weights=True)\n",
    "\n",
    "# default batch_size = 32\n",
    "history = model.fit(X_train, y_train, \n",
    "                    epochs=30, \n",
    "                    validation_data=(X_valid, y_valid),\n",
    "                    batch_size=32,\n",
    "                   callbacks=[early_stopping_callback])"
   ]
  },
  {
   "cell_type": "markdown",
   "metadata": {},
   "source": [
    "### Plot the loss and accuracy"
   ]
  },
  {
   "cell_type": "code",
   "execution_count": 79,
   "metadata": {},
   "outputs": [
    {
     "data": {
      "image/png": "[encoded data removed]",
      "text/plain": [
       "<Figure size 576x360 with 1 Axes>"
      ]
     },
     "metadata": {
      "needs_background": "light"
     },
     "output_type": "display_data"
    }
   ],
   "source": [
    "import pandas as pd\n",
    "import matplotlib.pyplot as plt\n",
    "\n",
    "pd.DataFrame(history.history).plot(figsize=(8,5))\n",
    "plt.grid(True)\n",
    "plt.gca().set_ylim(0,1)\n",
    "plt.show()"
   ]
  },
  {
   "cell_type": "markdown",
   "metadata": {},
   "source": [
    "### Evalute the Model with the test data"
   ]
  },
  {
   "cell_type": "code",
   "execution_count": 80,
   "metadata": {},
   "outputs": [
    {
     "name": "stdout",
     "output_type": "stream",
     "text": [
      "313/313 [==============================] - 0s 1ms/step - loss: 0.3551 - accuracy: 0.8720\n"
     ]
    },
    {
     "data": {
      "text/plain": [
       "[0.355098158121109, 0.871999979019165]"
      ]
     },
     "execution_count": 80,
     "metadata": {},
     "output_type": "execute_result"
    }
   ],
   "source": [
    "model.evaluate(X_test/255.0, y_test)"
   ]
  },
  {
   "cell_type": "markdown",
   "metadata": {},
   "source": [
    "### Use the model to predict the class"
   ]
  },
  {
   "cell_type": "code",
   "execution_count": 107,
   "metadata": {},
   "outputs": [
    {
     "data": {
      "image/png": "[encoded data removed]",
      "text/plain": [
       "<Figure size 432x288 with 1 Axes>"
      ]
     },
     "metadata": {
      "needs_background": "light"
     },
     "output_type": "display_data"
    },
    {
     "name": "stdout",
     "output_type": "stream",
     "text": [
      "Ankle boot\n"
     ]
    }
   ],
   "source": [
    "import matplotlib as mpl\n",
    "import matplotlib.pyplot as plt\n",
    "\n",
    "test = X_test[0]\n",
    "test_image = test.reshape(28,28)\n",
    "plt.imshow(test_image, cmap=\"binary\")\n",
    "plt.axis(\"off\")\n",
    "plt.show()\n",
    "\n",
    "print(class_names[y_test[0]])"
   ]
  },
  {
   "cell_type": "code",
   "execution_count": 134,
   "metadata": {},
   "outputs": [
    {
     "name": "stdout",
     "output_type": "stream",
     "text": [
      "[[0.   0.   0.   0.   0.   0.03 0.   0.05 0.   0.92]\n",
      " [0.   0.   0.99 0.   0.01 0.   0.   0.   0.   0.  ]\n",
      " [0.   1.   0.   0.   0.   0.   0.   0.   0.   0.  ]\n",
      " [0.   1.   0.   0.   0.   0.   0.   0.   0.   0.  ]\n",
      " [0.16 0.   0.04 0.01 0.02 0.   0.76 0.   0.   0.  ]\n",
      " [0.   1.   0.   0.   0.   0.   0.   0.   0.   0.  ]\n",
      " [0.   0.   0.01 0.   0.96 0.   0.03 0.   0.   0.  ]\n",
      " [0.   0.   0.01 0.   0.05 0.   0.94 0.   0.   0.  ]\n",
      " [0.   0.   0.   0.   0.   0.97 0.   0.02 0.   0.  ]\n",
      " [0.   0.   0.   0.   0.   0.   0.   1.   0.   0.  ]]\n",
      "[9 2 1 1 6 1 4 6 5 7]\n"
     ]
    }
   ],
   "source": [
    "y_proba = model.predict(X_test[:10]/255.0)\n",
    "print(y_proba.round(2))\n",
    "print(y_test[:10])"
   ]
  },
  {
   "cell_type": "code",
   "execution_count": 146,
   "metadata": {},
   "outputs": [
    {
     "name": "stdout",
     "output_type": "stream",
     "text": [
      "[[0.   0.   0.   0.   0.   0.03 0.   0.05 0.   0.92]]\n",
      "9\n"
     ]
    }
   ],
   "source": [
    "# add new axis to make the 2d array to form a 3d array\n",
    "import numpy as np\n",
    "y_proba = model.predict(X_test[0, np.newaxis]/255.0)\n",
    "print(y_proba.round(2))\n",
    "print(y_test[0])"
   ]
  },
  {
   "cell_type": "code",
   "execution_count": null,
   "metadata": {},
   "outputs": [],
   "source": []
  },
  {
   "cell_type": "code",
   "execution_count": null,
   "metadata": {},
   "outputs": [],
   "source": []
  }
 ],
 "metadata": {
  "kernelspec": {
   "display_name": "Python 3",
   "language": "python",
   "name": "python3"
  },
  "language_info": {
   "codemirror_mode": {
    "name": "ipython",
    "version": 3
   },
   "file_extension": ".py",
   "mimetype": "text/x-python",
   "name": "python",
   "nbconvert_exporter": "python",
   "pygments_lexer": "ipython3",
   "version": "3.8.3"
  }
 },
 "nbformat": 4,
 "nbformat_minor": 4
}
